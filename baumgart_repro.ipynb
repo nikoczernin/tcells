{
 "cells": [
  {
   "metadata": {
    "ExecuteTime": {
     "end_time": "2025-07-11T15:51:46.442642Z",
     "start_time": "2025-07-11T15:51:44.282948Z"
    }
   },
   "cell_type": "code",
   "source": [
    "\n",
    "from matplotlib import pyplot as plt\n",
    "import numpy as np\n",
    "from RL.TCell import TCell_Threshold\n",
    "import pandas as pd\n",
    "from RL.APC import StochasticAPC\n"
   ],
   "id": "1f01072408e599af",
   "outputs": [],
   "execution_count": 1
  },
  {
   "metadata": {
    "collapsed": true,
    "ExecuteTime": {
     "end_time": "2025-07-12T08:40:31.655607Z",
     "start_time": "2025-07-12T08:40:27.084832Z"
    }
   },
   "cell_type": "code",
   "source": [
    "\n",
    "\n",
    "def test_TCell_Threshold(N=1000):\n",
    "    # test many different TCell_Treshold instances with\n",
    "    # varying thresholds\n",
    "    # plot their results: FPR vs treshold\n",
    "    env = StochasticAPC()\n",
    "    results = []\n",
    "\n",
    "    for i in np.arange(0, 100, 1):\n",
    "        # make 100 episodes per each of the 100 different treshold levels\n",
    "        agent = TCell_Threshold(env, T=100, threshold=i/100)\n",
    "        for j in range(N):\n",
    "            R, t, transitions = agent.episode(epsilon=0.1, verbose=False)\n",
    "            final_action = transitions[-1][1]\n",
    "            final_reward = transitions[-1][2]\n",
    "            result = env.eval_action_reward(final_action, final_reward)\n",
    "            results.append({\"result\":result, \"t\":t})\n",
    "\n",
    "    df = pd.DataFrame(results, ignore_index=True)\n",
    "    df = df.groupby(\"t\")[\"result\"].value_counts().unstack(fill_value=0).reset_index()\n",
    "    df[\"TPR\"] = df[\"TP\"] / (df[\"TP\"] + df[\"FN\"])\n",
    "    print(df)\n",
    "    df.plot.line(\"t\", \"TPR\", xlabel=\"search time\", title=\"Search time vs TPR\")\n",
    "    plt.show()\n",
    "\n",
    "test_TCell_Threshold()"
   ],
   "id": "initial_id",
   "outputs": [
    {
     "ename": "TypeError",
     "evalue": "DataFrame.__init__() got an unexpected keyword argument 'ignore_index'",
     "output_type": "error",
     "traceback": [
      "\u001B[0;31m---------------------------------------------------------------------------\u001B[0m",
      "\u001B[0;31mTypeError\u001B[0m                                 Traceback (most recent call last)",
      "Cell \u001B[0;32mIn[4], line 25\u001B[0m\n\u001B[1;32m     22\u001B[0m     df\u001B[38;5;241m.\u001B[39mplot\u001B[38;5;241m.\u001B[39mline(\u001B[38;5;124m\"\u001B[39m\u001B[38;5;124mt\u001B[39m\u001B[38;5;124m\"\u001B[39m, \u001B[38;5;124m\"\u001B[39m\u001B[38;5;124mTPR\u001B[39m\u001B[38;5;124m\"\u001B[39m, xlabel\u001B[38;5;241m=\u001B[39m\u001B[38;5;124m\"\u001B[39m\u001B[38;5;124msearch time\u001B[39m\u001B[38;5;124m\"\u001B[39m, title\u001B[38;5;241m=\u001B[39m\u001B[38;5;124m\"\u001B[39m\u001B[38;5;124mSearch time vs TPR\u001B[39m\u001B[38;5;124m\"\u001B[39m)\n\u001B[1;32m     23\u001B[0m     plt\u001B[38;5;241m.\u001B[39mshow()\n\u001B[0;32m---> 25\u001B[0m \u001B[43mtest_TCell_Threshold\u001B[49m\u001B[43m(\u001B[49m\u001B[43m)\u001B[49m\n",
      "Cell \u001B[0;32mIn[4], line 18\u001B[0m, in \u001B[0;36mtest_TCell_Threshold\u001B[0;34m(N)\u001B[0m\n\u001B[1;32m     15\u001B[0m         result \u001B[38;5;241m=\u001B[39m env\u001B[38;5;241m.\u001B[39meval_action_reward(final_action, final_reward)\n\u001B[1;32m     16\u001B[0m         results\u001B[38;5;241m.\u001B[39mappend({\u001B[38;5;124m\"\u001B[39m\u001B[38;5;124mresult\u001B[39m\u001B[38;5;124m\"\u001B[39m:result, \u001B[38;5;124m\"\u001B[39m\u001B[38;5;124mt\u001B[39m\u001B[38;5;124m\"\u001B[39m:t})\n\u001B[0;32m---> 18\u001B[0m df \u001B[38;5;241m=\u001B[39m \u001B[43mpd\u001B[49m\u001B[38;5;241;43m.\u001B[39;49m\u001B[43mDataFrame\u001B[49m\u001B[43m(\u001B[49m\u001B[43mresults\u001B[49m\u001B[43m,\u001B[49m\u001B[43m \u001B[49m\u001B[43mignore_index\u001B[49m\u001B[38;5;241;43m=\u001B[39;49m\u001B[38;5;28;43;01mTrue\u001B[39;49;00m\u001B[43m)\u001B[49m\n\u001B[1;32m     19\u001B[0m df \u001B[38;5;241m=\u001B[39m df\u001B[38;5;241m.\u001B[39mgroupby(\u001B[38;5;124m\"\u001B[39m\u001B[38;5;124mt\u001B[39m\u001B[38;5;124m\"\u001B[39m)[\u001B[38;5;124m\"\u001B[39m\u001B[38;5;124mresult\u001B[39m\u001B[38;5;124m\"\u001B[39m]\u001B[38;5;241m.\u001B[39mvalue_counts()\u001B[38;5;241m.\u001B[39munstack(fill_value\u001B[38;5;241m=\u001B[39m\u001B[38;5;241m0\u001B[39m)\u001B[38;5;241m.\u001B[39mreset_index()\n\u001B[1;32m     20\u001B[0m df[\u001B[38;5;124m\"\u001B[39m\u001B[38;5;124mTPR\u001B[39m\u001B[38;5;124m\"\u001B[39m] \u001B[38;5;241m=\u001B[39m df[\u001B[38;5;124m\"\u001B[39m\u001B[38;5;124mTP\u001B[39m\u001B[38;5;124m\"\u001B[39m] \u001B[38;5;241m/\u001B[39m (df[\u001B[38;5;124m\"\u001B[39m\u001B[38;5;124mTP\u001B[39m\u001B[38;5;124m\"\u001B[39m] \u001B[38;5;241m+\u001B[39m df[\u001B[38;5;124m\"\u001B[39m\u001B[38;5;124mFN\u001B[39m\u001B[38;5;124m\"\u001B[39m])\n",
      "\u001B[0;31mTypeError\u001B[0m: DataFrame.__init__() got an unexpected keyword argument 'ignore_index'"
     ]
    }
   ],
   "execution_count": 4
  },
  {
   "metadata": {},
   "cell_type": "code",
   "outputs": [],
   "execution_count": null,
   "source": "",
   "id": "ee320b268ffad2d7"
  }
 ],
 "metadata": {
  "kernelspec": {
   "display_name": "Python 3",
   "language": "python",
   "name": "python3"
  },
  "language_info": {
   "codemirror_mode": {
    "name": "ipython",
    "version": 2
   },
   "file_extension": ".py",
   "mimetype": "text/x-python",
   "name": "python",
   "nbconvert_exporter": "python",
   "pygments_lexer": "ipython2",
   "version": "2.7.6"
  }
 },
 "nbformat": 4,
 "nbformat_minor": 5
}
