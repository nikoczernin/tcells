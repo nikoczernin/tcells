{
 "cells": [
  {
   "metadata": {
    "ExecuteTime": {
     "end_time": "2025-07-18T08:30:35.247278Z",
     "start_time": "2025-07-18T08:30:33.412105Z"
    }
   },
   "cell_type": "code",
   "source": [
    "\n",
    "from matplotlib import pyplot as plt\n",
    "import numpy as np\n",
    "from RL.TCell import TCell_Threshold\n",
    "import pandas as pd\n",
    "from RL.APC import StochasticAPC\n"
   ],
   "id": "1f01072408e599af",
   "outputs": [],
   "execution_count": 1
  },
  {
   "metadata": {},
   "cell_type": "markdown",
   "source": [
    "\\frac{# } Re{producing the results of Baumgart et al}.\n",
    "We opted not to use the metaphorical terminology of the search theory of Baumgart et al. and rather stick to the target terminology:\n",
    "Instead of a `Haystack`, we search a `Body`, which instead of containing multiple `Haybales` contains multiple `APCs`, which are either `positive`, making the body `infected` or `negative`, making the body `healthy`.\n",
    "\n",
    "M := number of positive APCs\n",
    "\n",
    "N := total number of APCs\n",
    "\n",
    "$p = M/N :=$ probability of 1 APC to be positive, expressed as an average over all APCs\n",
    "\n",
    "n := number of checked APCs\n",
    "\n",
    "k := number of APCs truly identified as positive\n",
    "\n",
    "$p   =  \\frac{M }{N}$\n",
    "\n",
    "### Global evaluation\n",
    "When performing a test on multiple APCs, with these metrics you evaluate a T-Cells performance across the whole population to determine how well it can identify a `infected` body.\n",
    "\n",
    "$TPR =  \\frac{TP}{(TP + FN)}$\n",
    "\n",
    "$FPR =  \\frac{FP}{(TN + FP)}$\n",
    "\n",
    "$TNR =  \\frac{TN}{(TN + FP)}$\n",
    "\n",
    "$FNR =  \\frac{FN}{(FN + TP)}$\n",
    "\n",
    "### Local evaluation\n",
    "When performing a test on a single APC, with these metrics you evaluate a T-Cells performance on a single case to determine how well it can identify a `positive` APC. While this is not measurable (a population of 1 has either k = 1 for a tp or 0 else), it is controllable via the agent (TCell) policy.\n",
    "\n",
    "$tpr =  \\frac{tp}{(tp + fn)}$\n",
    "\n",
    "$fpr =  \\frac{fp}{(tn + fp)}$\n",
    "\n",
    "$tnr =  \\frac{tn}{(tn + fp)}$\n",
    "\n",
    "$fnr =  \\frac{fn}{(fn + tp)}$\n",
    "\n",
    "\n",
    "\n",
    "\n"
   ],
   "id": "eeb2bc5a1c1181c0"
  },
  {
   "metadata": {},
   "cell_type": "markdown",
   "source": [
    "# Setup\n",
    "## Environment: APC\n",
    "Each APC is a reinforcement learning environment. It carries the attribute `isPositive`, which is either `True` or `False`. This is invisible to the agent.\n",
    "### States: S\n",
    "Each state is an array of three values:\n",
    "1. the timestep `t`, natural numbers\n",
    "2. the perceived probability of the APC being positive `q` $\\in [0, 1]$. This starts at `0.5` and gets nudged in either direction toward 0 or 1, depending on the attribute `isPositive`.\n",
    "3. `1` if this state is a terminal state, `0` at the start of an episode and made positive by the agent\n",
    "\n",
    "### Actions: A\n",
    "- `stay`: advance to the next timestep without making a decision\n",
    "- `positive`: classify the APC to be `positive`\n",
    "- `negative`: classify the APC to be `negative`\n",
    "\n",
    "### Rewards: R\n",
    "The values of the large rewards and penalties are subject to experimentation, as they strongly influence the agent's behaviour.\n",
    "- `stay`: `-1`, penalty for waiting, encourages making a decision\n",
    "- `positive`:\n",
    "    - `tp`: some large reward (e.g. `100`)\n",
    "    - `fp`: some large penalty (e.g. `-100`)\n",
    "- `negative`: classify the APC to be `negative`\n",
    "    - `tn`: some large reward (e.g. `100`)\n",
    "    - `fn`: some large penalty (e.g. `-100`)\n",
    "\n",
    "## T-Cell: Agent\n",
    "The agent for the environments is a TCell.\n",
    "It has a policy $\\pi: S X A \\rightarrow \\mathbb{R} \\in [0,1]$\n",
    "\n",
    "Since the state-space is continuous, its policy is not tabular but rather a function, which can take many forms. For this purpose we design a `Policy` class, which is flexible and can, for example, be a linear function or a Neural Network.\n"
   ],
   "id": "4f7340cd36748d33"
  },
  {
   "metadata": {
    "ExecuteTime": {
     "end_time": "2025-07-18T08:46:16.236703Z",
     "start_time": "2025-07-18T08:46:16.174106Z"
    }
   },
   "cell_type": "code",
   "source": [
    "# play a single episode with a TCell\n",
    "# use a TCell_Threshold\n",
    "# this TCell variant uses a simple policy that makes a decision solely based on q\n",
    "# if q is higher than the treshold or the final timestep is reached and q>0.5, it makes a positive classification\n",
    "# if q is lower than 1-threshold or the final timestep is reached and q<0.5, it makes a negative classification\n",
    "# otherwise it waits\n",
    "# if you don't change the threshold/policy, every episode will converge at the same time\n",
    "\n",
    "# StochasticAPC will pick a random value for isPositive, but you can also set it manually\n",
    "env = StochasticAPC()\n",
    "print(f\"APC is _{'positive' if env.isPositive else 'negative'}_\\n\")\n",
    "agent = TCell_Threshold(env, threshold=.95)\n",
    "print(agent.policy)\n",
    "# agent.policy.plot(agent)\n",
    "R, t, transitions = agent.episode(verbose=True)\n",
    "final_action = transitions[-1][1]\n",
    "final_reward = transitions[-1][2]\n",
    "agent.plot_transitions(transitions)\n"
   ],
   "id": "29f88fc4524cefe3",
   "outputs": [
    {
     "name": "stdout",
     "output_type": "stream",
     "text": [
      "APC is _negative_\n",
      "\n",
      "APCThresholdPolicy threshold=0.95\n",
      "Starting episode:\n",
      "State t=0, q=0.5, stop=False\n",
      "a_0: stay\n",
      "\n",
      "State t=1, q=0.5, stop=False\n",
      "a_1: stay\n",
      "\n",
      "State t=2, q=0.3333, stop=False\n",
      "a_2: stay\n",
      "\n",
      "State t=3, q=0.25, stop=False\n",
      "a_3: stay\n",
      "\n",
      "State t=4, q=0.2, stop=False\n",
      "a_4: stay\n",
      "\n",
      "State t=5, q=0.1667, stop=False\n",
      "a_5: stay\n",
      "\n",
      "State t=6, q=0.1429, stop=False\n",
      "a_6: stay\n",
      "\n",
      "State t=7, q=0.125, stop=False\n",
      "a_7: stay\n",
      "\n",
      "State t=8, q=0.1111, stop=False\n",
      "a_8: stay\n",
      "\n",
      "State t=9, q=0.1, stop=False\n",
      "a_9: stay\n",
      "\n",
      "State t=10, q=0.0909, stop=False\n",
      "a_10: stay\n",
      "\n",
      "State t=11, q=0.0833, stop=False\n",
      "a_11: stay\n",
      "\n",
      "State t=12, q=0.0769, stop=False\n",
      "a_12: stay\n",
      "\n",
      "State t=13, q=0.0714, stop=False\n",
      "a_13: stay\n",
      "\n",
      "State t=14, q=0.0667, stop=False\n",
      "a_14: stay\n",
      "\n",
      "State t=15, q=0.0625, stop=False\n",
      "a_15: stay\n",
      "\n",
      "State t=16, q=0.0588, stop=False\n",
      "a_16: stay\n",
      "\n",
      "State t=17, q=0.0556, stop=False\n",
      "a_17: stay\n",
      "\n",
      "State t=18, q=0.0526, stop=False\n",
      "a_18: stay\n",
      "\n",
      "State t=19, q=0.05, stop=False\n",
      "a_19: stay\n",
      "\n",
      "State t=20, q=0.0476, stop=False\n",
      "a_20: negative\n",
      "\n",
      "Finished episode at end-state:\n",
      "State t=21, q=0.0455, stop=True\n",
      "Total reward: 80\n",
      "\n"
     ]
    },
    {
     "data": {
      "text/plain": [
       "<Figure size 640x480 with 1 Axes>"
      ],
      "image/png": "[encoded data removed]"
     },
     "metadata": {},
     "output_type": "display_data"
    }
   ],
   "execution_count": 7
  },
  {
   "metadata": {},
   "cell_type": "markdown",
   "source": "Baumgart et al. display a plot that shows the development of the global TPR as the number of checked APCs increases, for different probabilities of harmfulness. Here we recreate this plot using our environments\n",
   "id": "4c9c6755af57f6b9"
  },
  {
   "metadata": {
    "collapsed": true,
    "ExecuteTime": {
     "end_time": "2025-07-18T08:30:43.816589Z",
     "start_time": "2025-07-18T08:30:35.545013Z"
    }
   },
   "cell_type": "code",
   "source": [
    "\n",
    "\n",
    "def test_TCell_Threshold(n=1000):\n",
    "    # test many different TCell_Treshold instances with\n",
    "    # varying thresholds\n",
    "    # plot their results: FPR vs treshold\n",
    "    env = StochasticAPC()\n",
    "    results = []\n",
    "\n",
    "    num_steps = 100  # number of steps\n",
    "    for thresh in np.linspace(0.5, 1.0, num_steps):\n",
    "        # reset the env\n",
    "        env.reset()\n",
    "        # make 100 episodes per each of the 100 different treshold levels\n",
    "        agent = TCell_Threshold(env, T=100, threshold=thresh)\n",
    "        for j in range(n):\n",
    "            R, t, transitions = agent.episode(epsilon=0.1, verbose=False)\n",
    "            final_action = transitions[-1][1]\n",
    "            final_reward = transitions[-1][2]\n",
    "            result = env.eval_action_reward(final_action, final_reward)\n",
    "            results.append({\"result\":result, \"t\":t})\n",
    "\n",
    "    df = pd.DataFrame(results)\n",
    "    df = df.groupby(\"t\")[\"result\"].value_counts().unstack(fill_value=0).reset_index()\n",
    "    df[\"TP\"] = df.get(\"TP\", 0)\n",
    "    df[\"FP\"] = df.get(\"FP\", 0)\n",
    "    df[\"TN\"] = df.get(\"TN\", 0)\n",
    "    df[\"FN\"] = df.get(\"FN\", 0)\n",
    "    print(df)\n",
    "\n",
    "    # df[\"TPR\"] = df[\"TP\"] / (df[\"TP\"] + df[\"FN\"])\n",
    "    # print(df)\n",
    "    # df.plot.line(\"t\", \"TPR\", xlabel=\"search time\", title=\"Search time vs TPR\")\n",
    "    # plt.show()\n",
    "\n",
    "test_TCell_Threshold()"
   ],
   "id": "initial_id",
   "outputs": [
    {
     "name": "stdout",
     "output_type": "stream",
     "text": [
      "result   t     TN     TP  FP  FN\n",
      "0        2  15000  18000   0   0\n",
      "1        3   6000  11000   0   0\n",
      "2        4   6000   4000   0   0\n",
      "3        5   4000   2000   0   0\n",
      "4        6   1000   4000   0   0\n",
      "5        7   1000   3000   0   0\n",
      "6        8      0   2000   0   0\n",
      "7        9   2000   1000   0   0\n",
      "8       10      0   1000   0   0\n",
      "9       11      0   2000   0   0\n",
      "10      12   1000      0   0   0\n",
      "11      13   1000      0   0   0\n",
      "12      14   1000      0   0   0\n",
      "13      15   1000      0   0   0\n",
      "14      16   1000      0   0   0\n",
      "15      18   1000      0   0   0\n",
      "16      19      0   1000   0   0\n",
      "17      22      0   1000   0   0\n",
      "18      24      0   1000   0   0\n",
      "19      28   1000      0   0   0\n",
      "20      33      0   1000   0   0\n",
      "21      39   1000      0   0   0\n",
      "22      49   1000      0   0   0\n",
      "23      66      0   1000   0   0\n",
      "24      99   2000   1000   0   0\n"
     ]
    }
   ],
   "execution_count": 3
  },
  {
   "metadata": {
    "ExecuteTime": {
     "end_time": "2025-07-18T08:30:43.841240Z",
     "start_time": "2025-07-18T08:30:43.839532Z"
    }
   },
   "cell_type": "code",
   "source": "",
   "id": "55b44c6a8a7e0b7a",
   "outputs": [],
   "execution_count": null
  }
 ],
 "metadata": {
  "kernelspec": {
   "display_name": "Python 3",
   "language": "python",
   "name": "python3"
  },
  "language_info": {
   "codemirror_mode": {
    "name": "ipython",
    "version": 2
   },
   "file_extension": ".py",
   "mimetype": "text/x-python",
   "name": "python",
   "nbconvert_exporter": "python",
   "pygments_lexer": "ipython2",
   "version": "2.7.6"
  }
 },
 "nbformat": 4,
 "nbformat_minor": 5
}
