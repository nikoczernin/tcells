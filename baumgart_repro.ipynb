{
 "cells": [
  {
   "metadata": {
    "ExecuteTime": {
     "end_time": "2025-07-15T10:31:45.980632Z",
     "start_time": "2025-07-15T10:31:45.229365Z"
    }
   },
   "cell_type": "code",
   "outputs": [],
   "execution_count": 1,
   "source": [
    "\n",
    "from matplotlib import pyplot as plt\n",
    "import numpy as np\n",
    "from RL.TCell import TCell_Threshold\n",
    "import pandas as pd\n",
    "from RL.APC import StochasticAPC\n"
   ],
   "id": "1f01072408e599af"
  },
  {
   "metadata": {},
   "cell_type": "markdown",
   "source": [
    "\\frac{# } Re{producing the results of Baumgart et al}.\n",
    "We opted not to use the metaphorical terminology of the search theory of Baumgart et al. and rather stick to the target terminology:\n",
    "Instead of a `Haystack`, we search a `Body`, which instead of containing multiple `Haybales` contains multiple `APCs`, which are either `positive`, making the body `infected` or `negative`, making the body `healthy`.\n",
    "\n",
    "M := number of positive APCs\n",
    "\n",
    "N := total number of APCs\n",
    "\n",
    "$p = M/N :=$ probability of 1 APC to be positive, expressed as an average over all APCs\n",
    "\n",
    "n := number of checked APCs\n",
    "\n",
    "k := number of APCs truly identified as positive\n",
    "\n",
    "$p   =  \\frac{M }{N}$\n",
    "\n",
    "### Global evaluation\n",
    "When performing a test on multiple APCs, with these metrics you evaluate a T-Cells performance across the whole population to determine how well it can identify a `infected` body.\n",
    "\n",
    "$TPR =  \\frac{TP}{(TP + FN)}$\n",
    "\n",
    "$FPR =  \\frac{FP}{(TN + FP)}$\n",
    "\n",
    "$TNR =  \\frac{TN}{(TN + FP)}$\n",
    "\n",
    "$FNR =  \\frac{FN}{(FN + TP)}$\n",
    "\n",
    "### Local evaluation\n",
    "When performing a test on a single APC, with these metrics you evaluate a T-Cells performance on a single case to determine how well it can identify a `positive` APC. While this is not measurable (a population of 1 has either k = 1 for a tp or 0 else), it is controllable via the agent (TCell) policy.\n",
    "\n",
    "$tpr =  \\frac{tp}{(tp + fn)}$\n",
    "\n",
    "$fpr =  \\frac{fp}{(tn + fp)}$\n",
    "\n",
    "$tnr =  \\frac{tn}{(tn + fp)}$\n",
    "\n",
    "$fnr =  \\frac{fn}{(fn + tp)}$\n",
    "\n",
    "\n",
    "\n",
    "\n"
   ],
   "id": "eeb2bc5a1c1181c0"
  },
  {
   "metadata": {},
   "cell_type": "markdown",
   "source": [
    "# Setup\n",
    "## Environment: APC\n",
    "Each APC is a reinforcement learning environment. It carries the attribute `isPositive`, which is either `True` or `False`. This is invisible to the agent.\n",
    "### States: S\n",
    "Each state is an array of three values:\n",
    "1. the timestep `t`, natural numbers\n",
    "2. the perceived probability of the APC being positive `q` $\\in [0, 1]$. This starts at `0.5` and gets nudged in either direction toward 0 or 1, depending on the attribute `isPositive`.\n",
    "3. `1` if this state is a terminal state, `0` at the start of an episode and made positive by the agent\n",
    "\n",
    "### Actions: A\n",
    "- `stay`: advance to the next timestep without making a decision\n",
    "- `positive`: classify the APC to be `positive`\n",
    "- `negative`: classify the APC to be `negative`\n",
    "\n",
    "### Rewards: R\n",
    "The values of the large rewards and penalties are subject to experimentation, as they strongly influence the agent's behaviour.\n",
    "- `stay`: `-1`, penalty for waiting, encourages making a decision\n",
    "- `positive`:\n",
    "    - `tp`: some large reward (e.g. `100`)\n",
    "    - `fp`: some large penalty (e.g. `-100`)\n",
    "- `negative`: classify the APC to be `negative`\n",
    "    - `tn`: some large reward (e.g. `100`)\n",
    "    - `fn`: some large penalty (e.g. `-100`)\n",
    "\n",
    "## T-Cell: Agent\n",
    "The agent for the environments is a TCell.\n",
    "It has a policy $\\pi: S X A \\rightarrow \\mathbb{R} \\in [0,1]$\n",
    "\n",
    "Since the state-space is continuous, its policy is not tabular but rather a function, which can take many forms. For this purpose we design a `Policy` class, which is flexible and can, for example, be a linear function or a Neural Network.\n"
   ],
   "id": "4f7340cd36748d33"
  },
  {
   "metadata": {},
   "cell_type": "code",
   "outputs": [],
   "execution_count": null,
   "source": "# play a single episode with a TCell",
   "id": "29f88fc4524cefe3"
  },
  {
   "metadata": {},
   "cell_type": "markdown",
   "source": "Baumgart et al. display a plot that shows the development of the global TPR as the number of checked APCs increases, for different probabilities of harmfulness. Here we recreate this plot using our environments\n",
   "id": "4c9c6755af57f6b9"
  },
  {
   "metadata": {
    "collapsed": true,
    "ExecuteTime": {
     "end_time": "2025-07-15T10:32:06.475818Z",
     "start_time": "2025-07-15T10:32:02.238918Z"
    }
   },
   "cell_type": "code",
   "outputs": [
    {
     "name": "stdout",
     "output_type": "stream",
     "text": [
      "result   t     FN     FP     TN     TP       TPR\n",
      "0        1  12475  12446  12532  12547  0.501439\n",
      "1        2   2676   2822   5637   5865  0.686688\n",
      "2        3    963    975   2958   3104  0.763216\n",
      "3        4    506    510   1981   2003  0.798326\n",
      "4        5    322    348   1687   1643  0.836132\n",
      "5        6    142    144    919    795  0.848453\n",
      "6        7    125    122    885    868  0.874119\n",
      "7        8     70     58    431    441  0.863014\n",
      "8        9     67     52    440    441  0.868110\n",
      "9       10     39     44    475    442  0.918919\n",
      "10      11     32     45    478    445  0.932914\n",
      "11      12     37     47    462    454  0.924644\n",
      "12      14     35     47    474    444  0.926931\n",
      "13      16     32     21    481    466  0.935743\n",
      "14      20     20     26    489    465  0.958763\n",
      "15      25     13     18    478    491  0.974206\n",
      "16      33     14     16    492    478  0.971545\n",
      "17      50      8     10    499    483  0.983707\n",
      "18      99      8      7    476    509  0.984526\n"
     ]
    },
    {
     "data": {
      "text/plain": [
       "<Figure size 640x480 with 1 Axes>"
      ],
      "image/png": "[encoded data removed]"
     },
     "metadata": {},
     "output_type": "display_data"
    }
   ],
   "execution_count": 3,
   "source": [
    "\n",
    "\n",
    "def test_TCell_Threshold(N=1000):\n",
    "    # test many different TCell_Treshold instances with\n",
    "    # varying thresholds\n",
    "    # plot their results: FPR vs treshold\n",
    "    env = StochasticAPC()\n",
    "    results = []\n",
    "\n",
    "    for i in np.arange(0, 100, 1):\n",
    "        # make 100 episodes per each of the 100 different treshold levels\n",
    "        agent = TCell_Threshold(env, T=100, threshold=i/100)\n",
    "        for j in range(N):\n",
    "            R, t, transitions = agent.episode(epsilon=0.1, verbose=False)\n",
    "            final_action = transitions[-1][1]\n",
    "            final_reward = transitions[-1][2]\n",
    "            result = env.eval_action_reward(final_action, final_reward)\n",
    "            results.append({\"result\":result, \"t\":t})\n",
    "\n",
    "    df = pd.DataFrame(results)\n",
    "    df = df.groupby(\"t\")[\"result\"].value_counts().unstack(fill_value=0).reset_index()\n",
    "    df[\"TPR\"] = df[\"TP\"] / (df[\"TP\"] + df[\"FN\"])\n",
    "    print(df)\n",
    "    df.plot.line(\"t\", \"TPR\", xlabel=\"search time\", title=\"Search time vs TPR\")\n",
    "    plt.show()\n",
    "\n",
    "test_TCell_Threshold()"
   ],
   "id": "initial_id"
  },
  {
   "metadata": {},
   "cell_type": "code",
   "outputs": [],
   "execution_count": null,
   "source": "",
   "id": "55b44c6a8a7e0b7a"
  }
 ],
 "metadata": {
  "kernelspec": {
   "display_name": "Python 3",
   "language": "python",
   "name": "python3"
  },
  "language_info": {
   "codemirror_mode": {
    "name": "ipython",
    "version": 2
   },
   "file_extension": ".py",
   "mimetype": "text/x-python",
   "name": "python",
   "nbconvert_exporter": "python",
   "pygments_lexer": "ipython2",
   "version": "2.7.6"
  }
 },
 "nbformat": 4,
 "nbformat_minor": 5
}
